{
 "cells": [
  {
   "cell_type": "markdown",
   "metadata": {},
   "source": [
    "Use the wine data to conduct Principal Component Analysis. The URL is https://archive.ics.uci.edu/ml/'machine-learning-databases/wine/wine.data"
   ]
  },
  {
   "cell_type": "code",
   "execution_count": 2,
   "metadata": {
    "id": "EscZZ1sHVIzJ"
   },
   "outputs": [],
   "source": [
    "import pandas as pd\n",
    "column_names = ['classes','Alcohol', 'Malic acid', 'Ash', 'Alcalinity of ash', 'Magnesium', 'Total phenols',\n",
    "              'Flavanoids', 'Nonflavanoid phenols', 'Proanthocyanins', 'Color intensity', 'Hue', 'OD280/OD315 of diluted wines', 'Proline']\n",
    "df=pd.read_csv('https://archive.ics.uci.edu/ml/machine-learning-databases/wine/wine.data',names=column_names)"
   ]
  },
  {
   "cell_type": "markdown",
   "metadata": {
    "id": "oq7z17Sqtx7_"
   },
   "source": [
    "What are the features?"
   ]
  },
  {
   "cell_type": "code",
   "execution_count": 3,
   "metadata": {
    "colab": {
     "base_uri": "https://localhost:8080/",
     "height": 418
    },
    "id": "6KlxYj2qnhmy",
    "outputId": "28fc6e5d-995e-44e4-b727-84eeb6ac2c8d"
   },
   "outputs": [
    {
     "data": {
      "text/plain": [
       "Index(['classes', 'Alcohol', 'Malic acid', 'Ash', 'Alcalinity of ash',\n",
       "       'Magnesium', 'Total phenols', 'Flavanoids', 'Nonflavanoid phenols',\n",
       "       'Proanthocyanins', 'Color intensity', 'Hue',\n",
       "       'OD280/OD315 of diluted wines', 'Proline'],\n",
       "      dtype='object')"
      ]
     },
     "execution_count": 3,
     "metadata": {},
     "output_type": "execute_result"
    }
   ],
   "source": [
    "df.columns"
   ]
  },
  {
   "cell_type": "markdown",
   "metadata": {
    "id": "8wgarYJnuB8Q"
   },
   "source": [
    "Split the dataset into training and test sets (30%). Standardize the features."
   ]
  },
  {
   "cell_type": "code",
   "execution_count": 4,
   "metadata": {
    "id": "edhsgQeTVeet"
   },
   "outputs": [],
   "source": [
    "from sklearn.model_selection import train_test_split\n",
    "X=df.drop('classes',axis=1)\n",
    "y=df['classes']\n",
    "X_train, X_test, y_train, y_test = train_test_split(X, y, test_size=0.3, random_state=43)"
   ]
  },
  {
   "cell_type": "code",
   "execution_count": 5,
   "metadata": {
    "id": "mvBg-2npXCps"
   },
   "outputs": [],
   "source": [
    "from sklearn.preprocessing import StandardScaler\n",
    "sc = StandardScaler()\n",
    "X_train1 = sc.fit_transform(X_train)\n",
    "X_test1 = sc.transform(X_test)"
   ]
  },
  {
   "cell_type": "markdown",
   "metadata": {},
   "source": [
    "Use the linalg.eig function from NumPy to obtain the eigenpairs of the Wine covariance matrix. Print the eigenvalues."
   ]
  },
  {
   "cell_type": "code",
   "execution_count": 6,
   "metadata": {
    "id": "tla0N6glXNLJ"
   },
   "outputs": [],
   "source": [
    "import numpy as np\n",
    "matrix = np.cov(X_train1.T)\n",
    "eigen_values, eigen_vectors = np.linalg.eig(matrix)"
   ]
  },
  {
   "cell_type": "code",
   "execution_count": 7,
   "metadata": {
    "colab": {
     "base_uri": "https://localhost:8080/"
    },
    "id": "CBASGXYKuvny",
    "outputId": "f7807fb0-c4dd-4896-f832-8f65a0056100"
   },
   "outputs": [
    {
     "data": {
      "text/plain": [
       "array([4.65772379, 2.69091171, 1.33368544, 1.0826291 , 0.83181914,\n",
       "       0.59944659, 0.55695044, 0.09613155, 0.35845013, 0.15788312,\n",
       "       0.23577773, 0.25393957, 0.25034275])"
      ]
     },
     "execution_count": 7,
     "metadata": {},
     "output_type": "execute_result"
    }
   ],
   "source": [
    "eigen_values"
   ]
  },
  {
   "cell_type": "markdown",
   "metadata": {
    "id": "oQhmg-QpvRZx"
   },
   "source": [
    "\n",
    "Compute and plot the individual explained variance and the cumulative explained variance (range from 1 to 14). Using the NumPy cumsum function, calculate the cumulative sum of explained variances, which you will then plot via Matplotlib's step function. Explain the outcomes.\n"
   ]
  },
  {
   "cell_type": "code",
   "execution_count": 16,
   "metadata": {
    "colab": {
     "base_uri": "https://localhost:8080/",
     "height": 279
    },
    "id": "ivr9iFqQsk3_",
    "outputId": "57834701-4f0b-4bd2-df8c-3ae741a226f2"
   },
   "outputs": [
    {
     "data": {
      "image/png": "[encoded data removed]",
      "text/plain": [
       "<Figure size 432x288 with 1 Axes>"
      ]
     },
     "metadata": {
      "needs_background": "light"
     },
     "output_type": "display_data"
    }
   ],
   "source": [
    "import matplotlib.pyplot as plt\n",
    "total = sum(eigen_values)\n",
    "variance = [(i / total) for i in sorted(eigen_values, reverse=True)]\n",
    "cumulative_sum = np.cumsum(variance)\n",
    "\n",
    "plt.bar(range(1,14), variance, alpha=0.9, label='Individual Explained Variance')\n",
    "plt.step(range(1,14), cumulative_sum,\n",
    "         label='Cumulative Explained Variance')\n",
    "plt.ylabel('Explained Variance')\n",
    "plt.xlabel('Principal Component Index')\n",
    "plt.legend()\n",
    "plt.show()"
   ]
  },
  {
   "cell_type": "markdown",
   "metadata": {
    "id": "0kpv_s5t03Ba"
   },
   "source": [
    "<i>The graph depicts the variances of individual companents. According to the graph, the first component accounts to 40% of variance."
   ]
  },
  {
   "cell_type": "markdown",
   "metadata": {
    "id": "PP_Njt67vTl0"
   },
   "source": [
    "Sort the eigenpairs by decreasing order of the eigenvalues. Make a list of (eigenvalue, eigenvector) tuples. Sort the (eigenvalue, eigenvector) tuples from high to low. Print the projection matrix W."
   ]
  },
  {
   "cell_type": "code",
   "execution_count": 22,
   "metadata": {
    "id": "CVqOoZ7lsvo8"
   },
   "outputs": [],
   "source": [
    "eigen_pairs = [(np.abs(eigen_values[i]), eigen_vectors[:, i]) for i in range(len(eigen_values))]\n",
    "eigen_pairs.sort(key=lambda k: k[0], reverse=True)"
   ]
  },
  {
   "cell_type": "code",
   "execution_count": 24,
   "metadata": {
    "colab": {
     "base_uri": "https://localhost:8080/"
    },
    "id": "EyOtVSays6R3",
    "outputId": "e1603cf7-0670-4ef7-8cf7-b94e6edb986e"
   },
   "outputs": [
    {
     "data": {
      "text/plain": [
       "array([[ 0.15323165, -0.48408288],\n",
       "       [-0.24599788, -0.18870195],\n",
       "       [-0.01182049, -0.3298186 ],\n",
       "       [-0.25356961, -0.0074867 ],\n",
       "       [ 0.14799959, -0.31282079],\n",
       "       [ 0.3942736 , -0.0472557 ],\n",
       "       [ 0.43145705,  0.0130822 ],\n",
       "       [-0.29282317, -0.05780993],\n",
       "       [ 0.31447115, -0.03020308],\n",
       "       [-0.06146361, -0.53125386],\n",
       "       [ 0.2726769 ,  0.26705186],\n",
       "       [ 0.3724572 ,  0.19460696],\n",
       "       [ 0.29421887, -0.35395544]])"
      ]
     },
     "execution_count": 24,
     "metadata": {},
     "output_type": "execute_result"
    }
   ],
   "source": [
    "w = np.hstack((eigen_pairs[0][1][:, np.newaxis], eigen_pairs[1][1][:, np.newaxis]))\n",
    "w"
   ]
  },
  {
   "cell_type": "markdown",
   "metadata": {
    "id": "rvYEOWfHy8eh"
   },
   "source": [
    "Using the projection matrix, transform a sample x onto the PCA subspace. Transforming the entire 124 x 13-dimensional training dataset onto the two principal components by calculating the matrix dot product."
   ]
  },
  {
   "cell_type": "code",
   "execution_count": 11,
   "metadata": {
    "id": "d6zXJkjItLKi"
   },
   "outputs": [],
   "source": [
    "X_train2 = X_train1.dot(w)"
   ]
  },
  {
   "cell_type": "markdown",
   "metadata": {
    "id": "Hr0AcWqw0beK"
   },
   "source": [
    "Visualize the transformed Wine training set into a two-dimensional scatterplot. Import ListedColormap. Set up marker generator and color map. Plot the decision surface and plot the class samples."
   ]
  },
  {
   "cell_type": "code",
   "execution_count": 21,
   "metadata": {
    "colab": {
     "base_uri": "https://localhost:8080/",
     "height": 279
    },
    "id": "kX603TlFtN8y",
    "outputId": "52019177-a6d8-4a62-d078-19790e2d812e"
   },
   "outputs": [
    {
     "data": {
      "image/png": "[encoded data removed]",
      "text/plain": [
       "<Figure size 432x288 with 1 Axes>"
      ]
     },
     "metadata": {
      "needs_background": "light"
     },
     "output_type": "display_data"
    }
   ],
   "source": [
    "from matplotlib.colors import ListedColormap\n",
    "colors = ['b','g', 'r']\n",
    "markers = ['+', '^', 'x']\n",
    "for l, c, m in zip(np.unique(y_train), colors, markers):\n",
    "    plt.scatter(X_train2[y_train==l, 0], \n",
    "                X_train2[y_train==l, 1], \n",
    "                c=c, label=l, marker=m) \n",
    "plt.xlabel('principal component 1')\n",
    "plt.ylabel('principal component 2')\n",
    "plt.legend()\n",
    "plt.show()"
   ]
  },
  {
   "cell_type": "markdown",
   "metadata": {
    "id": "wwCk-Coj14hC"
   },
   "source": [
    "Import LogisticRegression and PCA. Visualize the decision regions "
   ]
  },
  {
   "cell_type": "code",
   "execution_count": 13,
   "metadata": {
    "colab": {
     "base_uri": "https://localhost:8080/"
    },
    "id": "IrKtNZOntRZt",
    "outputId": "e0f205b9-6ef6-42fb-ec79-e11d7d0db521"
   },
   "outputs": [
    {
     "data": {
      "text/plain": [
       "LogisticRegression(solver='liblinear')"
      ]
     },
     "execution_count": 13,
     "metadata": {},
     "output_type": "execute_result"
    }
   ],
   "source": [
    "from sklearn.decomposition import PCA\n",
    "from sklearn.linear_model import LogisticRegression\n",
    "pca = PCA(n_components=2)\n",
    "lr = LogisticRegression(multi_class='auto', solver='liblinear')\n",
    "\n",
    "X_train4 = pca.fit_transform(X_train1)\n",
    "X_test4 = pca.transform(X_test1)\n",
    "lr.fit(X_train4, y_train)"
   ]
  },
  {
   "cell_type": "code",
   "execution_count": 28,
   "metadata": {
    "id": "4DvzM-Wstb0_"
   },
   "outputs": [],
   "source": [
    "def plot_decision_regions(X, y, classifier, resolution=0.02):\n",
    "  \n",
    "    markers = ('+', 'x', 'o', '^', '*')\n",
    "    colors = ('gray','orange','red', 'blue','green', )\n",
    "    cmap = ListedColormap(colors[:len(np.unique(y))])\n",
    "\n",
    "    x1_min, x1_max = X[:, 0].min() - 1, X[:, 0].max() + 1\n",
    "    x2_min, x2_max = X[:, 1].min() - 1, X[:, 1].max() + 1\n",
    "    xx1, xx2 = np.meshgrid(np.arange(x1_min, x1_max, resolution),\n",
    "                           np.arange(x2_min, x2_max, resolution))\n",
    "    Z = classifier.predict(np.array([xx1.ravel(), xx2.ravel()]).T)\n",
    "    Z = Z.reshape(xx1.shape)\n",
    "    plt.contourf(xx1, xx2, Z, alpha=0.4, cmap=cmap)\n",
    "    plt.xlim(xx1.min(), xx1.max())\n",
    "    plt.ylim(xx2.min(), xx2.max())\n",
    "\n",
    "    for idx, cl in enumerate(np.unique(y)):\n",
    "        plt.scatter(x=X[y == cl, 0], \n",
    "                    y=X[y == cl, 1],\n",
    "                    alpha=0.6, \n",
    "                    c=[cmap(idx)],\n",
    "                    edgecolor='black',\n",
    "                    marker=markers[idx], \n",
    "                    label=cl)\n",
    "\n",
    "\n"
   ]
  },
  {
   "cell_type": "code",
   "execution_count": 29,
   "metadata": {
    "colab": {
     "base_uri": "https://localhost:8080/",
     "height": 279
    },
    "id": "8bLV-B2X2cMa",
    "outputId": "8050896a-3584-4294-fa6b-7861c764c4f2"
   },
   "outputs": [
    {
     "name": "stderr",
     "output_type": "stream",
     "text": [
      "C:\\Users\\ROHITH~1\\AppData\\Local\\Temp/ipykernel_17276/1220731953.py:18: UserWarning: You passed a edgecolor/edgecolors ('black') for an unfilled marker ('+').  Matplotlib is ignoring the edgecolor in favor of the facecolor.  This behavior may change in the future.\n",
      "  plt.scatter(x=X[y == cl, 0],\n",
      "C:\\Users\\ROHITH~1\\AppData\\Local\\Temp/ipykernel_17276/1220731953.py:18: UserWarning: You passed a edgecolor/edgecolors ('black') for an unfilled marker ('x').  Matplotlib is ignoring the edgecolor in favor of the facecolor.  This behavior may change in the future.\n",
      "  plt.scatter(x=X[y == cl, 0],\n"
     ]
    },
    {
     "data": {
      "image/png": "[encoded data removed]",
      "text/plain": [
       "<Figure size 432x288 with 1 Axes>"
      ]
     },
     "metadata": {
      "needs_background": "light"
     },
     "output_type": "display_data"
    }
   ],
   "source": [
    "plot_decision_regions(X_train4, y_train, classifier=lr)\n",
    "plt.xlabel('principal component 1')\n",
    "plt.ylabel('principal component 2')\n",
    "plt.legend()\n",
    "plt.show()"
   ]
  },
  {
   "cell_type": "code",
   "execution_count": null,
   "metadata": {
    "id": "PhaH1mih3u02"
   },
   "outputs": [],
   "source": []
  }
 ],
 "metadata": {
  "colab": {
   "collapsed_sections": [],
   "name": "SaideepreddyMalgireddy_602_HW8.ipynb",
   "provenance": []
  },
  "kernelspec": {
   "display_name": "Python 3 (ipykernel)",
   "language": "python",
   "name": "python3"
  },
  "language_info": {
   "codemirror_mode": {
    "name": "ipython",
    "version": 3
   },
   "file_extension": ".py",
   "mimetype": "text/x-python",
   "name": "python",
   "nbconvert_exporter": "python",
   "pygments_lexer": "ipython3",
   "version": "3.9.6"
  }
 },
 "nbformat": 4,
 "nbformat_minor": 1
}
