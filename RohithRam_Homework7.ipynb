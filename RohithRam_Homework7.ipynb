{
 "cells": [
  {
   "cell_type": "code",
   "execution_count": 1,
   "id": "97771a94",
   "metadata": {},
   "outputs": [],
   "source": [
    "#importing iris dataset"
   ]
  },
  {
   "cell_type": "code",
   "execution_count": 2,
   "id": "eaf71c35",
   "metadata": {},
   "outputs": [],
   "source": [
    "from sklearn.datasets import load_iris"
   ]
  },
  {
   "cell_type": "code",
   "execution_count": 3,
   "id": "9ee493a2",
   "metadata": {},
   "outputs": [],
   "source": [
    "data1=load_iris()"
   ]
  },
  {
   "cell_type": "code",
   "execution_count": 4,
   "id": "11c2f701",
   "metadata": {},
   "outputs": [],
   "source": [
    "#Printing feature names"
   ]
  },
  {
   "cell_type": "code",
   "execution_count": 5,
   "id": "caa9dc11",
   "metadata": {},
   "outputs": [
    {
     "data": {
      "text/plain": [
       "['sepal length (cm)',\n",
       " 'sepal width (cm)',\n",
       " 'petal length (cm)',\n",
       " 'petal width (cm)']"
      ]
     },
     "execution_count": 5,
     "metadata": {},
     "output_type": "execute_result"
    }
   ],
   "source": [
    "data1.feature_names"
   ]
  },
  {
   "cell_type": "code",
   "execution_count": 6,
   "id": "7956d9b9",
   "metadata": {},
   "outputs": [],
   "source": [
    "#Importing as dataframe"
   ]
  },
  {
   "cell_type": "code",
   "execution_count": 7,
   "id": "c63a4cb7",
   "metadata": {},
   "outputs": [],
   "source": [
    "import pandas as pd\n",
    "df=pd.DataFrame(data1.data,columns=data1.feature_names)\n",
    "target=pd.DataFrame(data1.target,columns=['Target'])"
   ]
  },
  {
   "cell_type": "code",
   "execution_count": 8,
   "id": "bfd89713",
   "metadata": {},
   "outputs": [],
   "source": [
    "#Train Test Split"
   ]
  },
  {
   "cell_type": "code",
   "execution_count": 9,
   "id": "34863c81",
   "metadata": {},
   "outputs": [],
   "source": [
    "from sklearn.model_selection import train_test_split\n",
    "X_train, X_test, y_train, y_test = train_test_split(df, target, train_size=0.7, random_state=102)"
   ]
  },
  {
   "cell_type": "code",
   "execution_count": 10,
   "id": "42642fec",
   "metadata": {},
   "outputs": [],
   "source": [
    "#Random Forest"
   ]
  },
  {
   "cell_type": "code",
   "execution_count": 11,
   "id": "aae13e14",
   "metadata": {},
   "outputs": [
    {
     "name": "stderr",
     "output_type": "stream",
     "text": [
      "C:\\Users\\ROHITH~1\\AppData\\Local\\Temp/ipykernel_1344/2661633756.py:3: DataConversionWarning: A column-vector y was passed when a 1d array was expected. Please change the shape of y to (n_samples,), for example using ravel().\n",
      "  model = ranfo.fit(X_train,y_train)\n"
     ]
    }
   ],
   "source": [
    "from sklearn.ensemble import RandomForestClassifier,GradientBoostingClassifier\n",
    "ranfo = RandomForestClassifier(n_estimators = 2000, max_depth = 2)\n",
    "model = ranfo.fit(X_train,y_train)\n",
    "y_pred = model.predict(X_test)"
   ]
  },
  {
   "cell_type": "code",
   "execution_count": 12,
   "id": "6117063d",
   "metadata": {},
   "outputs": [
    {
     "name": "stdout",
     "output_type": "stream",
     "text": [
      "sepal length (cm) 0.11498928362169768\n",
      "sepal width (cm) 0.009927609547253713\n",
      "petal length (cm) 0.42687096508384365\n",
      "petal width (cm) 0.4482121417472049\n"
     ]
    }
   ],
   "source": [
    "features = ranfo.feature_importances_\n",
    "for i in range(0,4):\n",
    "    print(data1.feature_names[i],features[i])"
   ]
  },
  {
   "cell_type": "markdown",
   "id": "be164629",
   "metadata": {},
   "source": [
    "'Petal width' has the highest feature importance since the value generated is highest"
   ]
  },
  {
   "cell_type": "code",
   "execution_count": 13,
   "id": "cfe0054c",
   "metadata": {},
   "outputs": [],
   "source": [
    "#Accuracy"
   ]
  },
  {
   "cell_type": "code",
   "execution_count": 14,
   "id": "1cac5d6a",
   "metadata": {},
   "outputs": [
    {
     "data": {
      "text/plain": [
       "0.9333333333333333"
      ]
     },
     "execution_count": 14,
     "metadata": {},
     "output_type": "execute_result"
    }
   ],
   "source": [
    "from sklearn.metrics import accuracy_score,classification_report\n",
    "accuracy_score(y_test,y_pred)"
   ]
  },
  {
   "cell_type": "code",
   "execution_count": 15,
   "id": "4e087583",
   "metadata": {},
   "outputs": [
    {
     "name": "stdout",
     "output_type": "stream",
     "text": [
      "              precision    recall  f1-score   support\n",
      "\n",
      "           0       1.00      1.00      1.00        17\n",
      "           1       0.85      0.92      0.88        12\n",
      "           2       0.93      0.88      0.90        16\n",
      "\n",
      "    accuracy                           0.93        45\n",
      "   macro avg       0.93      0.93      0.93        45\n",
      "weighted avg       0.94      0.93      0.93        45\n",
      "\n"
     ]
    }
   ],
   "source": [
    "from sklearn.metrics import accuracy_score,classification_report\n",
    "print(classification_report(y_test,y_pred))"
   ]
  },
  {
   "cell_type": "markdown",
   "id": "46a5a08b",
   "metadata": {},
   "source": [
    "The model has very high accuracy of 93% which means that the model predicts 93 true positive results out of every 100 predictions on an average.  "
   ]
  },
  {
   "cell_type": "code",
   "execution_count": 16,
   "id": "6b551488",
   "metadata": {},
   "outputs": [],
   "source": [
    "#GradientBoosting"
   ]
  },
  {
   "cell_type": "code",
   "execution_count": 18,
   "id": "360dcb2c",
   "metadata": {},
   "outputs": [
    {
     "name": "stderr",
     "output_type": "stream",
     "text": [
      "c:\\users\\rohith ram\\appdata\\local\\programs\\python\\python39\\lib\\site-packages\\sklearn\\utils\\validation.py:63: DataConversionWarning: A column-vector y was passed when a 1d array was expected. Please change the shape of y to (n_samples, ), for example using ravel().\n",
      "  return f(*args, **kwargs)\n"
     ]
    }
   ],
   "source": [
    "grad = GradientBoostingClassifier()\n",
    "model = grad.fit(X_train,y_train)\n",
    "y_pred = model.predict(X_test)"
   ]
  },
  {
   "cell_type": "code",
   "execution_count": 19,
   "id": "9db544f4",
   "metadata": {},
   "outputs": [
    {
     "data": {
      "text/plain": [
       "0.9333333333333333"
      ]
     },
     "execution_count": 19,
     "metadata": {},
     "output_type": "execute_result"
    }
   ],
   "source": [
    "accuracy_score(y_test,y_pred)"
   ]
  },
  {
   "cell_type": "code",
   "execution_count": 20,
   "id": "bdbf94a0",
   "metadata": {},
   "outputs": [
    {
     "name": "stdout",
     "output_type": "stream",
     "text": [
      "sepal length (cm) 0.01319803027368247\n",
      "sepal width (cm) 0.0005823663644263419\n",
      "petal length (cm) 0.296318481088367\n",
      "petal width (cm) 0.6899011222735242\n"
     ]
    }
   ],
   "source": [
    "features = grad.feature_importances_\n",
    "for i in range(0,4):\n",
    "    print(data1.feature_names[i],features[i])"
   ]
  },
  {
   "cell_type": "code",
   "execution_count": 21,
   "id": "30ad9b8c",
   "metadata": {},
   "outputs": [
    {
     "name": "stdout",
     "output_type": "stream",
     "text": [
      "              precision    recall  f1-score   support\n",
      "\n",
      "           0       1.00      1.00      1.00        17\n",
      "           1       0.85      0.92      0.88        12\n",
      "           2       0.93      0.88      0.90        16\n",
      "\n",
      "    accuracy                           0.93        45\n",
      "   macro avg       0.93      0.93      0.93        45\n",
      "weighted avg       0.94      0.93      0.93        45\n",
      "\n"
     ]
    }
   ],
   "source": [
    "print(classification_report(y_test,y_pred))"
   ]
  },
  {
   "cell_type": "markdown",
   "id": "4ef7b61a",
   "metadata": {},
   "source": [
    "The accuracy and classification report of both the models are the same. However, Gradient Boosting Model performs well comparitively since the feature importance is higher when compared to Random Forest Classifier"
   ]
  },
  {
   "cell_type": "markdown",
   "id": "912ed879",
   "metadata": {},
   "source": [
    "Gradient Boosting model may result in overfitting of data when the noise is high. Hence, in models where the data has higher bias and lower variance, the model may not perform well"
   ]
  },
  {
   "cell_type": "code",
   "execution_count": null,
   "id": "f65a1725",
   "metadata": {},
   "outputs": [],
   "source": []
  }
 ],
 "metadata": {
  "kernelspec": {
   "display_name": "Python 3 (ipykernel)",
   "language": "python",
   "name": "python3"
  },
  "language_info": {
   "codemirror_mode": {
    "name": "ipython",
    "version": 3
   },
   "file_extension": ".py",
   "mimetype": "text/x-python",
   "name": "python",
   "nbconvert_exporter": "python",
   "pygments_lexer": "ipython3",
   "version": "3.9.6"
  }
 },
 "nbformat": 4,
 "nbformat_minor": 5
}
